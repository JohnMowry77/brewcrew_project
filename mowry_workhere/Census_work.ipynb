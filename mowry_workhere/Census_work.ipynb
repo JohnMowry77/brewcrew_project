{
 "cells": [
  {
   "cell_type": "code",
   "execution_count": 48,
   "metadata": {},
   "outputs": [],
   "source": [
    "# Dependencies\n",
    "import numpy as np\n",
    "import pandas as pd\n",
    "import matplotlib.pyplot as plt\n",
    "import requests\n",
    "from census import Census\n",
    "#import gmaps\n",
    "from pprint import pprint\n",
    "# Census & gmaps API Keys\n",
    "from api_key import (api_key, gkey)\n",
    "c = Census(api_key, year=2019)\n",
    "\n",
    "# Configure gmaps\n",
    "gmaps.configure(api_key=gkey)"
   ]
  },
  {
   "cell_type": "code",
   "execution_count": 59,
   "metadata": {},
   "outputs": [
    {
     "name": "stdout",
     "output_type": "stream",
     "text": [
      "[['NAME', 'DP04_0124PE', 'state', 'county'],\n",
      " ['Jefferson County, Colorado', '8.1', '08', '059'],\n",
      " ['Adams County, Colorado', '13.6', '08', '001'],\n",
      " ['Boulder County, Colorado', '9.7', '08', '013'],\n",
      " ['Pueblo County, Colorado', '11.9', '08', '101'],\n",
      " ['Mesa County, Colorado', '8.3', '08', '077'],\n",
      " ['El Paso County, Colorado', '7.8', '08', '041'],\n",
      " ['Arapahoe County, Colorado', '7.6', '08', '005'],\n",
      " ['Denver County, Colorado', '7.6', '08', '031'],\n",
      " ['Weld County, Colorado', '9.1', '08', '123'],\n",
      " ['Douglas County, Colorado', '4.4', '08', '035'],\n",
      " ['Larimer County, Colorado', '5.9', '08', '069'],\n",
      " ['Broomfield County, Colorado', '4.3', '08', '014']]\n"
     ]
    }
   ],
   "source": [
    "base_url = f'https://api.census.gov/data/2019/acs/acs1/profile?get=NAME,{variable_code}&for=county:*&in=state:08&key={api_key}'\n",
    "co_census=requests.get(base_url)\n",
    "pprint(co_census.json())"
   ]
  },
  {
   "cell_type": "code",
   "execution_count": 60,
   "metadata": {},
   "outputs": [
    {
     "data": {
      "text/plain": [
       "'https://api.census.gov/data/2019/acs/acs1/profile?get=NAME,DP04_0124PE&for=county:*&in=state:08&key=369426ba1812dfd9d755579f3201e878c9529147'"
      ]
     },
     "execution_count": 60,
     "metadata": {},
     "output_type": "execute_result"
    }
   ],
   "source": [
    "co_census.url\n",
    "# a list of a list\n",
    "# index starts at 0"
   ]
  },
  {
   "cell_type": "code",
   "execution_count": 62,
   "metadata": {},
   "outputs": [
    {
     "data": {
      "text/html": [
       "<div>\n",
       "<style scoped>\n",
       "    .dataframe tbody tr th:only-of-type {\n",
       "        vertical-align: middle;\n",
       "    }\n",
       "\n",
       "    .dataframe tbody tr th {\n",
       "        vertical-align: top;\n",
       "    }\n",
       "\n",
       "    .dataframe thead th {\n",
       "        text-align: right;\n",
       "    }\n",
       "</style>\n",
       "<table border=\"1\" class=\"dataframe\">\n",
       "  <thead>\n",
       "    <tr style=\"text-align: right;\">\n",
       "      <th></th>\n",
       "      <th>0</th>\n",
       "    </tr>\n",
       "  </thead>\n",
       "  <tbody>\n",
       "    <tr>\n",
       "      <th>0</th>\n",
       "      <td>b'[[\"NAME\",\"DP04_0124PE\",\"state\",\"county\"],\\n[...</td>\n",
       "    </tr>\n",
       "    <tr>\n",
       "      <th>1</th>\n",
       "      <td>b',\"001\"],\\n[\"Boulder County, Colorado\",\"9.7\",...</td>\n",
       "    </tr>\n",
       "    <tr>\n",
       "      <th>2</th>\n",
       "      <td>b'\"8.3\",\"08\",\"077\"],\\n[\"El Paso County, Colora...</td>\n",
       "    </tr>\n",
       "    <tr>\n",
       "      <th>3</th>\n",
       "      <td>b'y, Colorado\",\"7.6\",\"08\",\"031\"],\\n[\"Weld Coun...</td>\n",
       "    </tr>\n",
       "    <tr>\n",
       "      <th>4</th>\n",
       "      <td>b'imer County, Colorado\",\"5.9\",\"08\",\"069\"],\\n[...</td>\n",
       "    </tr>\n",
       "  </tbody>\n",
       "</table>\n",
       "</div>"
      ],
      "text/plain": [
       "                                                   0\n",
       "0  b'[[\"NAME\",\"DP04_0124PE\",\"state\",\"county\"],\\n[...\n",
       "1  b',\"001\"],\\n[\"Boulder County, Colorado\",\"9.7\",...\n",
       "2  b'\"8.3\",\"08\",\"077\"],\\n[\"El Paso County, Colora...\n",
       "3  b'y, Colorado\",\"7.6\",\"08\",\"031\"],\\n[\"Weld Coun...\n",
       "4  b'imer County, Colorado\",\"5.9\",\"08\",\"069\"],\\n[..."
      ]
     },
     "execution_count": 62,
     "metadata": {},
     "output_type": "execute_result"
    }
   ],
   "source": [
    "co_census_df=pd.DataFrame(co_census)\n",
    "co_census_df"
   ]
  },
  {
   "cell_type": "code",
   "execution_count": null,
   "metadata": {},
   "outputs": [],
   "source": [
    "# counties_list=[\"0\",\"Jefferson County\", \"Adams County\", \"Boulder County\", \"Pueblo County\", \"Mesa County\",\"El Paso County\", \"Arapahoe County\",\n",
    "#          \"Denver County\", \"Weld County\", \"Douglas County\", \"Larimer County\", \"Broomfield County\"]"
   ]
  },
  {
   "cell_type": "code",
   "execution_count": 50,
   "metadata": {},
   "outputs": [],
   "source": [
    "#Variable url: https://api.census.gov/data/2019/acs/acs1/profile/variables.html\n",
    "# pop = \"B01001_001E\"\n",
    "# male_pop = \"B01001_002E\"\n",
    "# female_pop = \"B01001_026E\"\n",
    "# med_age = \"B01002_001E\"\n",
    "# high = \"C15003_010E\"\n",
    "# associate = \"C15003_014E\"\n",
    "# bach = \"C15003_015E\"\n",
    "# doct = \"C15003_018E\"\n",
    "# income = \"B19013_001E\"\n",
    "\n",
    "# variables = [pop, male_pop, female_pop, med_age,high, associate, bach, doct, income]\n",
    "\n",
    "# county_data = []\n",
    "# for x in variables:\n",
    "#     #county_data.append(requests.get(f'{url}{x}{remainder_url}').json())\n",
    "#     response=requests.get(query_url)\n",
    "#     response=response.json()\n",
    "#     county_data.append(response)\n",
    "#     pprint(response)"
   ]
  },
  {
   "cell_type": "code",
   "execution_count": null,
   "metadata": {},
   "outputs": [],
   "source": []
  },
  {
   "cell_type": "code",
   "execution_count": 51,
   "metadata": {},
   "outputs": [],
   "source": [
    "\n",
    "                                "
   ]
  },
  {
   "cell_type": "code",
   "execution_count": 52,
   "metadata": {},
   "outputs": [],
   "source": [
    "\n",
    "\n",
    "\n",
    "\n"
   ]
  },
  {
   "cell_type": "code",
   "execution_count": null,
   "metadata": {},
   "outputs": [],
   "source": []
  },
  {
   "cell_type": "code",
   "execution_count": null,
   "metadata": {},
   "outputs": [],
   "source": []
  },
  {
   "cell_type": "code",
   "execution_count": null,
   "metadata": {},
   "outputs": [],
   "source": []
  },
  {
   "cell_type": "code",
   "execution_count": 53,
   "metadata": {},
   "outputs": [],
   "source": [
    "#1. start your query with the host name:\n",
    "#2: add the data year to the query:\n",
    "#3: add the dataset name acronym:\n",
    "# this is the base URL for this dataset. \n",
    "# You can find dataset names by browsing the discovery tool: https://api.census.gov/data.html\n",
    "#county_name='NAME,CP02_2019_001E'\n",
    "#base_url= \"https://api.census.gov/data/2019/acs/acs5/cprofile?\"\n",
    "#query_url= f'{base_url}get={county_name}&for=county:*&for=state:*&key={api_key}'\n",
    "\n",
    "#response=requests.get(query_url)\n",
    "#response=response.json()\n",
    "#pprint(response)\n",
    "#https://api.census.gov/data/2019/acs/acs5/cprofile?get=NAME,CP02_2019_001E&for=county:*&in=state:*&key=YOUR_KEY_GOES_HERE \n",
    "\n",
    "#https://api.census.gov/data/2019/acs/acs5/cprofile?get=NAME,CP02_2019_001E&for=county:001&in=state:01&key=YOUR_KEY_GOES_HERE\n",
    "\n",
    "\n",
    "#https://api.census.gov/data/2019/acs/acs5/cprofile?get=NAME,CP02_2019_001E&for=state:*&key=YOUR_KEY_GOES_HERE"
   ]
  },
  {
   "cell_type": "code",
   "execution_count": 55,
   "metadata": {},
   "outputs": [],
   "source": [
    "# for county in county_list[:]:\n",
    "#     query_url= f'{base_url}get={county_name}&for=county:103&for=state:08&key={api_key}'\n",
    "#     county_response=requests.get(query_url)\n",
    "#     pprint(county_response)"
   ]
  },
  {
   "cell_type": "code",
   "execution_count": 56,
   "metadata": {},
   "outputs": [
    {
     "name": "stdout",
     "output_type": "stream",
     "text": [
      "[]\n",
      "[]\n",
      "[]\n",
      "[]\n",
      "[]\n",
      "[]\n",
      "[]\n",
      "[]\n",
      "[]\n",
      "[]\n",
      "[]\n",
      "[]\n"
     ]
    }
   ],
   "source": [
    "#for county in county_list[:]:\n",
    "#county_name='CP02_2019_001E'\n",
    "#estimate of income and benefits\n",
    "# census_code= [{'DP03_0055E': '25k to $34,999',\n",
    "#               'DP03_0056E': '$35k to $49,999',\n",
    "#               'DP03_0057E': '$50k to $75,999',\n",
    "#               'DP03_0058E': '$75k to $99,999',\n",
    "#               'DP03_0059E': '$100k to $149,999',\n",
    "#               'DP03_0060E': '$150k to $199,999',\n",
    "#               'DP03_0061E': '$200k or more'\n",
    "#              }]\n",
    "\n",
    "#census_code='DP03_0061E'\n",
    "#variable= 'DP03_0027E'\n",
    "the_list=[]\n",
    "#base_url = f'https://api.census.gov/data/2019/acs/acs1/profile?get=NAME,{census_code}&for=county:*&in=state:08&key={api_key}'\n",
    "\n",
    "for county in county_list[:]:\n",
    "#query_url= \n",
    "    county_response=requests.get(base_url)\n",
    "    county_list.append(counties_list)\n",
    "#county_response\n",
    "    pprint(the_list)\n",
    "    \n"
   ]
  },
  {
   "cell_type": "code",
   "execution_count": 39,
   "metadata": {},
   "outputs": [
    {
     "data": {
      "text/plain": [
       "'Jefferson County, Colorado'"
      ]
     },
     "execution_count": 39,
     "metadata": {},
     "output_type": "execute_result"
    }
   ],
   "source": [
    "response[1][0]"
   ]
  },
  {
   "cell_type": "code",
   "execution_count": 2,
   "metadata": {},
   "outputs": [],
   "source": [
    "# list of variables you can call. Use link below\n",
    "#https://api.census.gov/data/2019/acs/acs1/variables.html"
   ]
  },
  {
   "cell_type": "code",
   "execution_count": 7,
   "metadata": {},
   "outputs": [],
   "source": [
    "#https://api.census.gov/data/2019/acs/acs1\n",
    "\n",
    "# census_url=\"https://api.census.gov/data/2019/acs/acs1?get=NAME,B01001_001E&for=us:*&key={api_key}\"\n",
    "# data=request.get(f)"
   ]
  },
  {
   "cell_type": "code",
   "execution_count": null,
   "metadata": {},
   "outputs": [],
   "source": [
    "# census_data = c.acs5.get((\"NAME\", \"B19013_001E\", \"B01003_001E\", \"B01002_001E\",\n",
    "#                           \"B19301_001E\",\n",
    "#                           \"B17001_002E\",\n",
    "#                           \"B23025_005E\"), {'for': 'state:*'})"
   ]
  }
 ],
 "metadata": {
  "kernelspec": {
   "display_name": "Python 3",
   "language": "python",
   "name": "python3"
  },
  "language_info": {
   "codemirror_mode": {
    "name": "ipython",
    "version": 3
   },
   "file_extension": ".py",
   "mimetype": "text/x-python",
   "name": "python",
   "nbconvert_exporter": "python",
   "pygments_lexer": "ipython3",
   "version": "3.8.3"
  }
 },
 "nbformat": 4,
 "nbformat_minor": 4
}
