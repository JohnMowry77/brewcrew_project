{
 "cells": [
  {
   "cell_type": "markdown",
   "metadata": {},
   "source": [
    "Import Dependencies"
   ]
  },
  {
   "cell_type": "code",
   "execution_count": 8,
   "metadata": {},
   "outputs": [],
   "source": [
    "import pandas as pd\n",
    "import matplotlib.pyplot as plt\n",
    "from config import weather_api_key\n",
    "import requests"
   ]
  },
  {
   "cell_type": "markdown",
   "metadata": {},
   "source": [
    "Finding count totals, Dropping NaN, dropping unnecessary columns"
   ]
  },
  {
   "cell_type": "code",
   "execution_count": 9,
   "metadata": {},
   "outputs": [
    {
     "data": {
      "text/plain": [
       "id              4805\n",
       "name            4805\n",
       "brewery_type    4805\n",
       "street          4805\n",
       "city            4805\n",
       "state           4805\n",
       "country         4805\n",
       "longitude       4805\n",
       "latitude        4805\n",
       "dtype: int64"
      ]
     },
     "metadata": {},
     "output_type": "display_data"
    },
    {
     "data": {
      "text/plain": [
       "id              7797\n",
       "name            7797\n",
       "brewery_type    7797\n",
       "street          6974\n",
       "city            7797\n",
       "state           7787\n",
       "country         7797\n",
       "longitude       4932\n",
       "latitude        4932\n",
       "dtype: int64"
      ]
     },
     "metadata": {},
     "output_type": "display_data"
    }
   ],
   "source": [
    "beer_df = pd.read_csv(\"openbrewerydb/breweries.csv\")\n",
    "beer_df = beer_df[[\"id\", \"name\", \"brewery_type\",\"street\", \"city\", \"state\", \"country\", \"longitude\", \"latitude\"]]\n",
    "dropped_df = beer_df.dropna()\n",
    "display(dropped_df.count())\n",
    "display(beer_df.count())"
   ]
  },
  {
   "cell_type": "code",
   "execution_count": 10,
   "metadata": {},
   "outputs": [
    {
     "data": {
      "text/html": [
       "<div>\n",
       "<style scoped>\n",
       "    .dataframe tbody tr th:only-of-type {\n",
       "        vertical-align: middle;\n",
       "    }\n",
       "\n",
       "    .dataframe tbody tr th {\n",
       "        vertical-align: top;\n",
       "    }\n",
       "\n",
       "    .dataframe thead th {\n",
       "        text-align: right;\n",
       "    }\n",
       "</style>\n",
       "<table border=\"1\" class=\"dataframe\">\n",
       "  <thead>\n",
       "    <tr style=\"text-align: right;\">\n",
       "      <th></th>\n",
       "      <th>id</th>\n",
       "      <th>name</th>\n",
       "      <th>brewery_type</th>\n",
       "      <th>street</th>\n",
       "      <th>city</th>\n",
       "      <th>state</th>\n",
       "      <th>country</th>\n",
       "      <th>longitude</th>\n",
       "      <th>latitude</th>\n",
       "    </tr>\n",
       "  </thead>\n",
       "  <tbody>\n",
       "    <tr>\n",
       "      <th>0</th>\n",
       "      <td>10-56-brewing-company-knox</td>\n",
       "      <td>10-56 Brewing Company</td>\n",
       "      <td>micro</td>\n",
       "      <td>400 Brown Cir</td>\n",
       "      <td>Knox</td>\n",
       "      <td>Indiana</td>\n",
       "      <td>United States</td>\n",
       "      <td>-86.627954</td>\n",
       "      <td>41.289715</td>\n",
       "    </tr>\n",
       "    <tr>\n",
       "      <th>3</th>\n",
       "      <td>10-barrel-brewing-co-bend-pub-bend</td>\n",
       "      <td>10 Barrel Brewing Co - Bend Pub</td>\n",
       "      <td>large</td>\n",
       "      <td>62950 NE 18th St</td>\n",
       "      <td>Bend</td>\n",
       "      <td>Oregon</td>\n",
       "      <td>United States</td>\n",
       "      <td>-121.280954</td>\n",
       "      <td>44.091211</td>\n",
       "    </tr>\n",
       "    <tr>\n",
       "      <th>4</th>\n",
       "      <td>10-barrel-brewing-co-boise-boise</td>\n",
       "      <td>10 Barrel Brewing Co - Boise</td>\n",
       "      <td>large</td>\n",
       "      <td>826 W Bannock St</td>\n",
       "      <td>Boise</td>\n",
       "      <td>Idaho</td>\n",
       "      <td>United States</td>\n",
       "      <td>-116.202929</td>\n",
       "      <td>43.618516</td>\n",
       "    </tr>\n",
       "    <tr>\n",
       "      <th>5</th>\n",
       "      <td>10-barrel-brewing-co-denver-denver</td>\n",
       "      <td>10 Barrel Brewing Co - Denver</td>\n",
       "      <td>large</td>\n",
       "      <td>2620 Walnut St</td>\n",
       "      <td>Denver</td>\n",
       "      <td>Colorado</td>\n",
       "      <td>United States</td>\n",
       "      <td>-104.985366</td>\n",
       "      <td>39.759251</td>\n",
       "    </tr>\n",
       "    <tr>\n",
       "      <th>6</th>\n",
       "      <td>10-barrel-brewing-co-portland</td>\n",
       "      <td>10 Barrel Brewing Co</td>\n",
       "      <td>large</td>\n",
       "      <td>1411 NW Flanders St</td>\n",
       "      <td>Portland</td>\n",
       "      <td>Oregon</td>\n",
       "      <td>United States</td>\n",
       "      <td>-122.685506</td>\n",
       "      <td>45.525979</td>\n",
       "    </tr>\n",
       "    <tr>\n",
       "      <th>...</th>\n",
       "      <td>...</td>\n",
       "      <td>...</td>\n",
       "      <td>...</td>\n",
       "      <td>...</td>\n",
       "      <td>...</td>\n",
       "      <td>...</td>\n",
       "      <td>...</td>\n",
       "      <td>...</td>\n",
       "      <td>...</td>\n",
       "    </tr>\n",
       "    <tr>\n",
       "      <th>7790</th>\n",
       "      <td>zorn-brew-works-michigan-city</td>\n",
       "      <td>Zorn Brew Works</td>\n",
       "      <td>micro</td>\n",
       "      <td>605 E 9th St</td>\n",
       "      <td>Michigan City</td>\n",
       "      <td>Indiana</td>\n",
       "      <td>United States</td>\n",
       "      <td>-86.892168</td>\n",
       "      <td>41.714577</td>\n",
       "    </tr>\n",
       "    <tr>\n",
       "      <th>7792</th>\n",
       "      <td>zuni-street-brewing-company-denver</td>\n",
       "      <td>Zuni Street Brewing Company</td>\n",
       "      <td>micro</td>\n",
       "      <td>2355 W 29th Ave</td>\n",
       "      <td>Denver</td>\n",
       "      <td>Colorado</td>\n",
       "      <td>United States</td>\n",
       "      <td>-105.015409</td>\n",
       "      <td>39.758593</td>\n",
       "    </tr>\n",
       "    <tr>\n",
       "      <th>7793</th>\n",
       "      <td>zwanzigz-brewing-columbus</td>\n",
       "      <td>ZwanzigZ Brewing</td>\n",
       "      <td>brewpub</td>\n",
       "      <td>1038 Lafayette Ave</td>\n",
       "      <td>Columbus</td>\n",
       "      <td>Indiana</td>\n",
       "      <td>United States</td>\n",
       "      <td>-85.918836</td>\n",
       "      <td>39.208657</td>\n",
       "    </tr>\n",
       "    <tr>\n",
       "      <th>7795</th>\n",
       "      <td>zydeco-brew-werks-tampa</td>\n",
       "      <td>Zydeco Brew Werks</td>\n",
       "      <td>brewpub</td>\n",
       "      <td>1902 E 7th Ave</td>\n",
       "      <td>Tampa</td>\n",
       "      <td>Florida</td>\n",
       "      <td>United States</td>\n",
       "      <td>-82.437832</td>\n",
       "      <td>27.960344</td>\n",
       "    </tr>\n",
       "    <tr>\n",
       "      <th>7796</th>\n",
       "      <td>zymurgy-brew-works-torrance</td>\n",
       "      <td>Zymurgy Brew Works</td>\n",
       "      <td>micro</td>\n",
       "      <td>22755 Hawthorne Blvd</td>\n",
       "      <td>Torrance</td>\n",
       "      <td>California</td>\n",
       "      <td>United States</td>\n",
       "      <td>-118.352467</td>\n",
       "      <td>33.863537</td>\n",
       "    </tr>\n",
       "  </tbody>\n",
       "</table>\n",
       "<p>4805 rows × 9 columns</p>\n",
       "</div>"
      ],
      "text/plain": [
       "                                      id                             name  \\\n",
       "0             10-56-brewing-company-knox            10-56 Brewing Company   \n",
       "3     10-barrel-brewing-co-bend-pub-bend  10 Barrel Brewing Co - Bend Pub   \n",
       "4       10-barrel-brewing-co-boise-boise     10 Barrel Brewing Co - Boise   \n",
       "5     10-barrel-brewing-co-denver-denver    10 Barrel Brewing Co - Denver   \n",
       "6          10-barrel-brewing-co-portland             10 Barrel Brewing Co   \n",
       "...                                  ...                              ...   \n",
       "7790       zorn-brew-works-michigan-city                  Zorn Brew Works   \n",
       "7792  zuni-street-brewing-company-denver      Zuni Street Brewing Company   \n",
       "7793           zwanzigz-brewing-columbus                 ZwanzigZ Brewing   \n",
       "7795             zydeco-brew-werks-tampa                Zydeco Brew Werks   \n",
       "7796         zymurgy-brew-works-torrance               Zymurgy Brew Works   \n",
       "\n",
       "     brewery_type                street           city       state  \\\n",
       "0           micro         400 Brown Cir           Knox     Indiana   \n",
       "3           large      62950 NE 18th St           Bend      Oregon   \n",
       "4           large      826 W Bannock St          Boise       Idaho   \n",
       "5           large        2620 Walnut St         Denver    Colorado   \n",
       "6           large   1411 NW Flanders St       Portland      Oregon   \n",
       "...           ...                   ...            ...         ...   \n",
       "7790        micro          605 E 9th St  Michigan City     Indiana   \n",
       "7792        micro       2355 W 29th Ave         Denver    Colorado   \n",
       "7793      brewpub    1038 Lafayette Ave       Columbus     Indiana   \n",
       "7795      brewpub        1902 E 7th Ave          Tampa     Florida   \n",
       "7796        micro  22755 Hawthorne Blvd       Torrance  California   \n",
       "\n",
       "            country   longitude   latitude  \n",
       "0     United States  -86.627954  41.289715  \n",
       "3     United States -121.280954  44.091211  \n",
       "4     United States -116.202929  43.618516  \n",
       "5     United States -104.985366  39.759251  \n",
       "6     United States -122.685506  45.525979  \n",
       "...             ...         ...        ...  \n",
       "7790  United States  -86.892168  41.714577  \n",
       "7792  United States -105.015409  39.758593  \n",
       "7793  United States  -85.918836  39.208657  \n",
       "7795  United States  -82.437832  27.960344  \n",
       "7796  United States -118.352467  33.863537  \n",
       "\n",
       "[4805 rows x 9 columns]"
      ]
     },
     "metadata": {},
     "output_type": "display_data"
    }
   ],
   "source": [
    "display(dropped_df)"
   ]
  },
  {
   "cell_type": "markdown",
   "metadata": {},
   "source": [
    "Breakdown of states, might need to adjust all the names of the states for state code later on."
   ]
  },
  {
   "cell_type": "code",
   "execution_count": 11,
   "metadata": {},
   "outputs": [
    {
     "data": {
      "text/plain": [
       "California              896\n",
       "Colorado                429\n",
       "Washington              422\n",
       "New York                415\n",
       "Michigan                375\n",
       "Pennsylvania            343\n",
       "Texas                   343\n",
       "Florida                 312\n",
       "North Carolina          307\n",
       "Ohio                    303\n",
       "Oregon                  291\n",
       "Virginia                254\n",
       "Illinois                249\n",
       "Wisconsin               217\n",
       "Minnesota               182\n",
       "Massachusetts           163\n",
       "IN                      162\n",
       "Missouri                141\n",
       "Arizona                 124\n",
       "New Jersey              115\n",
       "Maine                   114\n",
       "Maryland                109\n",
       "Tennessee               108\n",
       "Georgia                  99\n",
       "Connecticut              92\n",
       "Montana                  92\n",
       "Iowa                     87\n",
       "New Mexico               83\n",
       "South Carolina           76\n",
       "New Hampshire            72\n",
       "Idaho                    64\n",
       "Vermont                  59\n",
       "Kentucky                 58\n",
       "Nebraska                 53\n",
       "Nevada                   51\n",
       "Alaska                   51\n",
       "Kansas                   47\n",
       "Arkansas                 45\n",
       "Alabama                  45\n",
       "Oklahoma                 44\n",
       "Louisiana                43\n",
       "Utah                     41\n",
       "Wyoming                  32\n",
       "West Virginia            30\n",
       "Delaware                 28\n",
       "South Dakota             26\n",
       "Rhode Island             23\n",
       "Hawaii                   23\n",
       "North Dakota             16\n",
       "Mississippi              16\n",
       "District of Columbia     16\n",
       "MIssouri                  1\n",
       "Name: state, dtype: int64"
      ]
     },
     "metadata": {},
     "output_type": "display_data"
    }
   ],
   "source": [
    "state_count = beer_df[\"state\"].value_counts()\n",
    "state_count = state_count.rename(index =({'Indiana': \"IN\"}))\n",
    "display(state_count)"
   ]
  },
  {
   "cell_type": "markdown",
   "metadata": {},
   "source": [
    "Sample Bar chart, real crowded looking"
   ]
  },
  {
   "cell_type": "code",
   "execution_count": 12,
   "metadata": {},
   "outputs": [
    {
     "data": {
      "image/png": "[encoded data removed]",
      "text/plain": [
       "<Figure size 432x288 with 1 Axes>"
      ]
     },
     "metadata": {
      "needs_background": "light"
     },
     "output_type": "display_data"
    },
    {
     "data": {
      "text/plain": [
       "<Figure size 1440x720 with 0 Axes>"
      ]
     },
     "metadata": {},
     "output_type": "display_data"
    }
   ],
   "source": [
    "plt.bar(state_count.index, height = state_count)\n",
    "plt.xlabel(\"States\")\n",
    "plt.ylabel(\"Amount of Breweries\")\n",
    "plt.title(\"Amount of Breweries per State\")\n",
    "plt.grid(True)\n",
    "plt.xticks(rotation = 90)\n",
    "plt.figure(figsize=(20,10))\n",
    "plt.show()"
   ]
  },
  {
   "cell_type": "markdown",
   "metadata": {},
   "source": [
    "Breaking down breweries into types, crowded probably should convert some to \"other\""
   ]
  },
  {
   "cell_type": "code",
   "execution_count": 13,
   "metadata": {},
   "outputs": [],
   "source": [
    "small_batch_df = dropped_df[(dropped_df[\"brewery_type\"] == \"micro\") | (dropped_df[\"brewery_type\"] == \"brewpub\")]\n",
    "types = beer_df[\"brewery_type\"].value_counts()"
   ]
  },
  {
   "cell_type": "code",
   "execution_count": 14,
   "metadata": {},
   "outputs": [
    {
     "data": {
      "image/png": "[encoded data removed]",
      "text/plain": [
       "<Figure size 432x288 with 1 Axes>"
      ]
     },
     "metadata": {},
     "output_type": "display_data"
    }
   ],
   "source": [
    "labels = types.index\n",
    "explode = [.1,0,0,0,0,0,0,0,0,0]\n",
    "colors = [\"red\", \"green\", \"blue\", \"yellow\", \"lightcoral\", \"darkorchid\", \"slategray\", \"orange\", \"peru\",\"dodgerblue\"]\n",
    "plt.pie(types,explode = explode, labels = labels, colors = colors, shadow = True)\n",
    "plt.title(\"Types of Breweries Currently Active\")\n",
    "plt.legend()\n",
    "plt.show()\n"
   ]
  },
  {
   "cell_type": "markdown",
   "metadata": {},
   "source": [
    "Used homework code because I was curious about latitude/temperature/count relationship, didn't work need to adjust, original code used Georgetown colorado name for Georgetown, DC, need state codes"
   ]
  },
  {
   "cell_type": "code",
   "execution_count": 15,
   "metadata": {},
   "outputs": [
    {
     "data": {
      "text/plain": [
       "'Processing Record 0 of Set 1 | Knox'"
      ]
     },
     "metadata": {},
     "output_type": "display_data"
    },
    {
     "data": {
      "text/plain": [
       "'Knox not found. Skipping...'"
      ]
     },
     "metadata": {},
     "output_type": "display_data"
    },
    {
     "data": {
      "text/plain": [
       "'Processing Record 1 of Set 1 | Bend'"
      ]
     },
     "metadata": {},
     "output_type": "display_data"
    },
    {
     "data": {
      "text/plain": [
       "'Bend not found. Skipping...'"
      ]
     },
     "metadata": {},
     "output_type": "display_data"
    },
    {
     "data": {
      "text/plain": [
       "'Processing Record 2 of Set 1 | Bend'"
      ]
     },
     "metadata": {},
     "output_type": "display_data"
    },
    {
     "data": {
      "text/plain": [
       "'Bend not found. Skipping...'"
      ]
     },
     "metadata": {},
     "output_type": "display_data"
    },
    {
     "data": {
      "text/plain": [
       "'Processing Record 3 of Set 1 | Bend'"
      ]
     },
     "metadata": {},
     "output_type": "display_data"
    },
    {
     "data": {
      "text/plain": [
       "'Bend not found. Skipping...'"
      ]
     },
     "metadata": {},
     "output_type": "display_data"
    },
    {
     "data": {
      "text/plain": [
       "'Processing Record 4 of Set 1 | Boise'"
      ]
     },
     "metadata": {},
     "output_type": "display_data"
    },
    {
     "data": {
      "text/plain": [
       "'Boise not found. Skipping...'"
      ]
     },
     "metadata": {},
     "output_type": "display_data"
    },
    {
     "data": {
      "text/plain": [
       "'Processing Record 5 of Set 1 | Denver'"
      ]
     },
     "metadata": {},
     "output_type": "display_data"
    },
    {
     "data": {
      "text/plain": [
       "'Denver not found. Skipping...'"
      ]
     },
     "metadata": {},
     "output_type": "display_data"
    },
    {
     "data": {
      "text/plain": [
       "'Processing Record 6 of Set 1 | Portland'"
      ]
     },
     "metadata": {},
     "output_type": "display_data"
    },
    {
     "data": {
      "text/plain": [
       "'Portland not found. Skipping...'"
      ]
     },
     "metadata": {},
     "output_type": "display_data"
    },
    {
     "data": {
      "text/plain": [
       "'Processing Record 7 of Set 1 | San Diego'"
      ]
     },
     "metadata": {},
     "output_type": "display_data"
    },
    {
     "data": {
      "text/plain": [
       "'San Diego not found. Skipping...'"
      ]
     },
     "metadata": {},
     "output_type": "display_data"
    },
    {
     "data": {
      "text/plain": [
       "'Processing Record 8 of Set 1 | Reno'"
      ]
     },
     "metadata": {},
     "output_type": "display_data"
    },
    {
     "data": {
      "text/plain": [
       "'Reno not found. Skipping...'"
      ]
     },
     "metadata": {},
     "output_type": "display_data"
    },
    {
     "data": {
      "text/plain": [
       "'Processing Record 9 of Set 1 | Quilcene'"
      ]
     },
     "metadata": {},
     "output_type": "display_data"
    },
    {
     "data": {
      "text/plain": [
       "'Quilcene not found. Skipping...'"
      ]
     },
     "metadata": {},
     "output_type": "display_data"
    }
   ],
   "source": [
    "cities = beer_df[\"city\"]\n",
    "url = \"http://api.openweathermap.org/data/2.5/forecast?q=\"\n",
    "max_temp = []\n",
    "humidity = []\n",
    "cloudiness = []\n",
    "wind_speed = []\n",
    "found_lats = []\n",
    "found_longs = []\n",
    "for i, each_city in enumerate(cities[:10]):\n",
    "    display(f\"Processing Record {i} of Set 1 | {each_city}\")\n",
    "    city_json = requests.get(f'{url}{each_city}&appid={weather_api_key}').json()\n",
    "    \n",
    "    try:\n",
    "        max_temp.append(city_json[\"main\"][\"temp_max\"])\n",
    "        humidity.append(city_json[\"main\"][\"humidity\"])\n",
    "        cloudiness.append(city_json[\"clouds\"][\"all\"])\n",
    "        wind_speed.append(city_json[\"wind\"][\"speed\"])\n",
    "        found_city.append(each_city)\n",
    "        found_lats.append(city_json[\"coord\"][\"lat\"])\n",
    "        found_longs.append(city_json[\"coord\"][\"lon\"])\n",
    "    except:\n",
    "        display(f'{each_city} not found. Skipping...')\n",
    "        pass"
   ]
  },
  {
   "cell_type": "code",
   "execution_count": 40,
   "metadata": {},
   "outputs": [
    {
     "ename": "NameError",
     "evalue": "name 'found_city' is not defined",
     "output_type": "error",
     "traceback": [
      "\u001b[1;31m---------------------------------------------------------------------------\u001b[0m",
      "\u001b[1;31mNameError\u001b[0m                                 Traceback (most recent call last)",
      "\u001b[1;32m<ipython-input-40-06dc11aa41f6>\u001b[0m in \u001b[0;36m<module>\u001b[1;34m\u001b[0m\n\u001b[0;32m      1\u001b[0m weather_df = pd.DataFrame({\n\u001b[1;32m----> 2\u001b[1;33m     \u001b[1;34m\"city\"\u001b[0m \u001b[1;33m:\u001b[0m \u001b[0mfound_city\u001b[0m\u001b[1;33m,\u001b[0m\u001b[1;33m\u001b[0m\u001b[1;33m\u001b[0m\u001b[0m\n\u001b[0m\u001b[0;32m      3\u001b[0m     \u001b[1;34m\"Lat\"\u001b[0m \u001b[1;33m:\u001b[0m \u001b[0mfound_lats\u001b[0m\u001b[1;33m,\u001b[0m\u001b[1;33m\u001b[0m\u001b[1;33m\u001b[0m\u001b[0m\n\u001b[0;32m      4\u001b[0m     \u001b[1;34m\"Lng\"\u001b[0m \u001b[1;33m:\u001b[0m \u001b[0mfound_longs\u001b[0m\u001b[1;33m,\u001b[0m\u001b[1;33m\u001b[0m\u001b[1;33m\u001b[0m\u001b[0m\n\u001b[0;32m      5\u001b[0m     \u001b[1;34m\"Max Temp (degrees F)\"\u001b[0m \u001b[1;33m:\u001b[0m \u001b[0mmax_temp\u001b[0m\u001b[1;33m,\u001b[0m\u001b[1;33m\u001b[0m\u001b[1;33m\u001b[0m\u001b[0m\n",
      "\u001b[1;31mNameError\u001b[0m: name 'found_city' is not defined"
     ]
    }
   ],
   "source": [
    "weather_df = pd.DataFrame({\n",
    "    \"city\" : found_city,\n",
    "    \"Lat\" : found_lats,\n",
    "    \"Lng\" : found_longs,\n",
    "    \"Max Temp (degrees F)\" : max_temp,\n",
    "    \"Humidity\" : humidity,\n",
    "    \"Cloudiness\" : cloudiness,\n",
    "    \"Wind Speed\" : wind_speed,\n",
    "})\n",
    "weather_df[\"Max Temp (degrees F)\"] = (weather_df[\"Max Temp (degrees F)\"] - 273.15) *9/5 +32\n",
    "weather_df.head()"
   ]
  },
  {
   "cell_type": "markdown",
   "metadata": {},
   "source": [
    "Merged DataFrame, original bug shown with multiple incorrect Georgetowns"
   ]
  },
  {
   "cell_type": "code",
   "execution_count": 46,
   "metadata": {
    "scrolled": true
   },
   "outputs": [
    {
     "data": {
      "text/html": [
       "<div>\n",
       "<style scoped>\n",
       "    .dataframe tbody tr th:only-of-type {\n",
       "        vertical-align: middle;\n",
       "    }\n",
       "\n",
       "    .dataframe tbody tr th {\n",
       "        vertical-align: top;\n",
       "    }\n",
       "\n",
       "    .dataframe thead th {\n",
       "        text-align: right;\n",
       "    }\n",
       "</style>\n",
       "<table border=\"1\" class=\"dataframe\">\n",
       "  <thead>\n",
       "    <tr style=\"text-align: right;\">\n",
       "      <th></th>\n",
       "      <th>id</th>\n",
       "      <th>name</th>\n",
       "      <th>brewery_type</th>\n",
       "      <th>street</th>\n",
       "      <th>city</th>\n",
       "      <th>state</th>\n",
       "      <th>country</th>\n",
       "      <th>Brewery Longitude</th>\n",
       "      <th>Brewery Latitude</th>\n",
       "      <th>City Lat</th>\n",
       "      <th>City Lng</th>\n",
       "      <th>Max Temp (degrees F)</th>\n",
       "      <th>Humidity</th>\n",
       "      <th>Cloudiness</th>\n",
       "      <th>Wind Speed</th>\n",
       "    </tr>\n",
       "  </thead>\n",
       "  <tbody>\n",
       "    <tr>\n",
       "      <th>341</th>\n",
       "      <td>16-mile-brewing-co-georgetown</td>\n",
       "      <td>16 Mile Brewing Co</td>\n",
       "      <td>micro</td>\n",
       "      <td>413 S Bedford St</td>\n",
       "      <td>Georgetown</td>\n",
       "      <td>Delaware</td>\n",
       "      <td>United States</td>\n",
       "      <td>-75.378164</td>\n",
       "      <td>38.678894</td>\n",
       "      <td>5.4112</td>\n",
       "      <td>100.3354</td>\n",
       "      <td>86.000</td>\n",
       "      <td>61</td>\n",
       "      <td>20</td>\n",
       "      <td>3.60</td>\n",
       "    </tr>\n",
       "    <tr>\n",
       "      <th>342</th>\n",
       "      <td>barking-armadillo-brewing-georgetown</td>\n",
       "      <td>Barking Armadillo Brewing</td>\n",
       "      <td>micro</td>\n",
       "      <td>507 River Bend</td>\n",
       "      <td>Georgetown</td>\n",
       "      <td>Texas</td>\n",
       "      <td>United States</td>\n",
       "      <td>-97.693249</td>\n",
       "      <td>30.660811</td>\n",
       "      <td>5.4112</td>\n",
       "      <td>100.3354</td>\n",
       "      <td>86.000</td>\n",
       "      <td>61</td>\n",
       "      <td>20</td>\n",
       "      <td>3.60</td>\n",
       "    </tr>\n",
       "    <tr>\n",
       "      <th>343</th>\n",
       "      <td>guanella-pass-brewing-company-llc-georgetown</td>\n",
       "      <td>Guanella Pass Brewing Company, LLC</td>\n",
       "      <td>micro</td>\n",
       "      <td>501 Rose Street</td>\n",
       "      <td>Georgetown</td>\n",
       "      <td>Colorado</td>\n",
       "      <td>United States</td>\n",
       "      <td>-105.697303</td>\n",
       "      <td>39.705772</td>\n",
       "      <td>5.4112</td>\n",
       "      <td>100.3354</td>\n",
       "      <td>86.000</td>\n",
       "      <td>61</td>\n",
       "      <td>20</td>\n",
       "      <td>3.60</td>\n",
       "    </tr>\n",
       "    <tr>\n",
       "      <th>405</th>\n",
       "      <td>2-tread-brewing-co-santa-rosa</td>\n",
       "      <td>2 Tread Brewing Co</td>\n",
       "      <td>brewpub</td>\n",
       "      <td>1018 Santa Rosa Plz</td>\n",
       "      <td>Santa Rosa</td>\n",
       "      <td>California</td>\n",
       "      <td>United States</td>\n",
       "      <td>-122.716773</td>\n",
       "      <td>38.438777</td>\n",
       "      <td>14.3122</td>\n",
       "      <td>121.1114</td>\n",
       "      <td>84.200</td>\n",
       "      <td>54</td>\n",
       "      <td>40</td>\n",
       "      <td>7.72</td>\n",
       "    </tr>\n",
       "    <tr>\n",
       "      <th>406</th>\n",
       "      <td>fogbelt-brewing-co-santa-rosa</td>\n",
       "      <td>Fogbelt Brewing Co</td>\n",
       "      <td>brewpub</td>\n",
       "      <td>1305 Cleveland Ave</td>\n",
       "      <td>Santa Rosa</td>\n",
       "      <td>California</td>\n",
       "      <td>United States</td>\n",
       "      <td>-122.726608</td>\n",
       "      <td>38.449000</td>\n",
       "      <td>14.3122</td>\n",
       "      <td>121.1114</td>\n",
       "      <td>84.200</td>\n",
       "      <td>54</td>\n",
       "      <td>40</td>\n",
       "      <td>7.72</td>\n",
       "    </tr>\n",
       "    <tr>\n",
       "      <th>...</th>\n",
       "      <td>...</td>\n",
       "      <td>...</td>\n",
       "      <td>...</td>\n",
       "      <td>...</td>\n",
       "      <td>...</td>\n",
       "      <td>...</td>\n",
       "      <td>...</td>\n",
       "      <td>...</td>\n",
       "      <td>...</td>\n",
       "      <td>...</td>\n",
       "      <td>...</td>\n",
       "      <td>...</td>\n",
       "      <td>...</td>\n",
       "      <td>...</td>\n",
       "      <td>...</td>\n",
       "    </tr>\n",
       "    <tr>\n",
       "      <th>4553</th>\n",
       "      <td>stormcloud-brewing-company-frankfort</td>\n",
       "      <td>Stormcloud Brewing Company</td>\n",
       "      <td>brewpub</td>\n",
       "      <td>303 Main St</td>\n",
       "      <td>Frankfort</td>\n",
       "      <td>Michigan</td>\n",
       "      <td>United States</td>\n",
       "      <td>-86.241002</td>\n",
       "      <td>44.632906</td>\n",
       "      <td>-27.2667</td>\n",
       "      <td>28.4833</td>\n",
       "      <td>59.684</td>\n",
       "      <td>93</td>\n",
       "      <td>35</td>\n",
       "      <td>1.43</td>\n",
       "    </tr>\n",
       "    <tr>\n",
       "      <th>4554</th>\n",
       "      <td>stormcloud-brewing-company-production-facility...</td>\n",
       "      <td>Stormcloud Brewing Company Production Facility</td>\n",
       "      <td>micro</td>\n",
       "      <td>366 Parkview Ln</td>\n",
       "      <td>Frankfort</td>\n",
       "      <td>Michigan</td>\n",
       "      <td>United States</td>\n",
       "      <td>-86.221812</td>\n",
       "      <td>44.637393</td>\n",
       "      <td>-27.2667</td>\n",
       "      <td>28.4833</td>\n",
       "      <td>59.684</td>\n",
       "      <td>93</td>\n",
       "      <td>35</td>\n",
       "      <td>1.43</td>\n",
       "    </tr>\n",
       "    <tr>\n",
       "      <th>4571</th>\n",
       "      <td>talking-waters-brewing-co-montevideo</td>\n",
       "      <td>Talking Waters Brewing Co.</td>\n",
       "      <td>micro</td>\n",
       "      <td>205 S 1st St</td>\n",
       "      <td>Montevideo</td>\n",
       "      <td>Minnesota</td>\n",
       "      <td>United States</td>\n",
       "      <td>-95.723503</td>\n",
       "      <td>44.942758</td>\n",
       "      <td>-34.8335</td>\n",
       "      <td>-56.1674</td>\n",
       "      <td>69.008</td>\n",
       "      <td>82</td>\n",
       "      <td>0</td>\n",
       "      <td>1.54</td>\n",
       "    </tr>\n",
       "    <tr>\n",
       "      <th>4681</th>\n",
       "      <td>uncle-ernies-bayfront-grill-brew-house-panama-...</td>\n",
       "      <td>Uncle Ernies Bayfront Grill &amp; Brew House</td>\n",
       "      <td>contract</td>\n",
       "      <td>1151 Bayview Ave</td>\n",
       "      <td>Panama City</td>\n",
       "      <td>Florida</td>\n",
       "      <td>United States</td>\n",
       "      <td>-85.702765</td>\n",
       "      <td>30.169812</td>\n",
       "      <td>8.9936</td>\n",
       "      <td>-79.5197</td>\n",
       "      <td>75.992</td>\n",
       "      <td>83</td>\n",
       "      <td>20</td>\n",
       "      <td>2.57</td>\n",
       "    </tr>\n",
       "    <tr>\n",
       "      <th>4752</th>\n",
       "      <td>wort-hog-brewing-company-llc-warrenton</td>\n",
       "      <td>Wort Hog Brewing Company LLC</td>\n",
       "      <td>brewpub</td>\n",
       "      <td>50A S 3rd St</td>\n",
       "      <td>Warrenton</td>\n",
       "      <td>Virginia</td>\n",
       "      <td>United States</td>\n",
       "      <td>-77.795138</td>\n",
       "      <td>38.711795</td>\n",
       "      <td>-28.1140</td>\n",
       "      <td>24.8475</td>\n",
       "      <td>68.198</td>\n",
       "      <td>73</td>\n",
       "      <td>59</td>\n",
       "      <td>3.88</td>\n",
       "    </tr>\n",
       "  </tbody>\n",
       "</table>\n",
       "<p>96 rows × 15 columns</p>\n",
       "</div>"
      ],
      "text/plain": [
       "                                                     id  \\\n",
       "341                       16-mile-brewing-co-georgetown   \n",
       "342                barking-armadillo-brewing-georgetown   \n",
       "343        guanella-pass-brewing-company-llc-georgetown   \n",
       "405                       2-tread-brewing-co-santa-rosa   \n",
       "406                       fogbelt-brewing-co-santa-rosa   \n",
       "...                                                 ...   \n",
       "4553               stormcloud-brewing-company-frankfort   \n",
       "4554  stormcloud-brewing-company-production-facility...   \n",
       "4571               talking-waters-brewing-co-montevideo   \n",
       "4681  uncle-ernies-bayfront-grill-brew-house-panama-...   \n",
       "4752             wort-hog-brewing-company-llc-warrenton   \n",
       "\n",
       "                                                name brewery_type  \\\n",
       "341                               16 Mile Brewing Co        micro   \n",
       "342                        Barking Armadillo Brewing        micro   \n",
       "343               Guanella Pass Brewing Company, LLC        micro   \n",
       "405                               2 Tread Brewing Co      brewpub   \n",
       "406                               Fogbelt Brewing Co      brewpub   \n",
       "...                                              ...          ...   \n",
       "4553                      Stormcloud Brewing Company      brewpub   \n",
       "4554  Stormcloud Brewing Company Production Facility        micro   \n",
       "4571                      Talking Waters Brewing Co.        micro   \n",
       "4681        Uncle Ernies Bayfront Grill & Brew House     contract   \n",
       "4752                    Wort Hog Brewing Company LLC      brewpub   \n",
       "\n",
       "                   street         city       state        country  \\\n",
       "341      413 S Bedford St   Georgetown    Delaware  United States   \n",
       "342        507 River Bend   Georgetown       Texas  United States   \n",
       "343       501 Rose Street   Georgetown    Colorado  United States   \n",
       "405   1018 Santa Rosa Plz   Santa Rosa  California  United States   \n",
       "406    1305 Cleveland Ave   Santa Rosa  California  United States   \n",
       "...                   ...          ...         ...            ...   \n",
       "4553          303 Main St    Frankfort    Michigan  United States   \n",
       "4554      366 Parkview Ln    Frankfort    Michigan  United States   \n",
       "4571         205 S 1st St   Montevideo   Minnesota  United States   \n",
       "4681     1151 Bayview Ave  Panama City     Florida  United States   \n",
       "4752         50A S 3rd St    Warrenton    Virginia  United States   \n",
       "\n",
       "      Brewery Longitude  Brewery Latitude  City Lat  City Lng  \\\n",
       "341          -75.378164         38.678894    5.4112  100.3354   \n",
       "342          -97.693249         30.660811    5.4112  100.3354   \n",
       "343         -105.697303         39.705772    5.4112  100.3354   \n",
       "405         -122.716773         38.438777   14.3122  121.1114   \n",
       "406         -122.726608         38.449000   14.3122  121.1114   \n",
       "...                 ...               ...       ...       ...   \n",
       "4553         -86.241002         44.632906  -27.2667   28.4833   \n",
       "4554         -86.221812         44.637393  -27.2667   28.4833   \n",
       "4571         -95.723503         44.942758  -34.8335  -56.1674   \n",
       "4681         -85.702765         30.169812    8.9936  -79.5197   \n",
       "4752         -77.795138         38.711795  -28.1140   24.8475   \n",
       "\n",
       "      Max Temp (degrees F)  Humidity  Cloudiness  Wind Speed  \n",
       "341                 86.000        61          20        3.60  \n",
       "342                 86.000        61          20        3.60  \n",
       "343                 86.000        61          20        3.60  \n",
       "405                 84.200        54          40        7.72  \n",
       "406                 84.200        54          40        7.72  \n",
       "...                    ...       ...         ...         ...  \n",
       "4553                59.684        93          35        1.43  \n",
       "4554                59.684        93          35        1.43  \n",
       "4571                69.008        82           0        1.54  \n",
       "4681                75.992        83          20        2.57  \n",
       "4752                68.198        73          59        3.88  \n",
       "\n",
       "[96 rows x 15 columns]"
      ]
     },
     "execution_count": 46,
     "metadata": {},
     "output_type": "execute_result"
    }
   ],
   "source": [
    "merged_df = pd.merge(dropped_df,weather_df, on = \"city\")\n",
    "merged_df = merged_df.rename(columns = ({\"Lat\": \"City Lat\", \"Lng\" : \"City Lng\", \"longitude\" : \"Brewery Longitude\", \"latitude\": \"Brewery Latitude\"}))"
   ]
  },
  {
   "cell_type": "markdown",
   "metadata": {},
   "source": [
    "Orginal working code with bugs plot shown, didn't get to add in third variable of size of point equaling to amount of breweries per latitude"
   ]
  },
  {
   "cell_type": "code",
   "execution_count": 48,
   "metadata": {},
   "outputs": [
    {
     "data": {
      "image/png": "[encoded data removed]",
      "text/plain": [
       "<Figure size 432x288 with 1 Axes>"
      ]
     },
     "metadata": {
      "needs_background": "light"
     },
     "output_type": "display_data"
    }
   ],
   "source": [
    "plt.scatter(y = merged_df[\"Brewery Latitude\"], x = merged_df[\"Max Temp (degrees F)\"],marker = \"*\", c= \"g\")\n",
    "plt.ylabel(\"Latitude\")\n",
    "plt.xlabel(\"Max Temp (degrees F)\")\n",
    "plt.title(\"City Latitude vs. Max Temperature (F) on 1/27/21\")\n",
    "plt.grid(True)\n",
    "#plt.savefig(\"../output_data/Fig1\")\n",
    "plt.show()"
   ]
  }
 ],
 "metadata": {
  "kernelspec": {
   "display_name": "Python 3",
   "language": "python",
   "name": "python3"
  },
  "language_info": {
   "codemirror_mode": {
    "name": "ipython",
    "version": 3
   },
   "file_extension": ".py",
   "mimetype": "text/x-python",
   "name": "python",
   "nbconvert_exporter": "python",
   "pygments_lexer": "ipython3",
   "version": "3.8.5"
  },
  "latex_envs": {
   "LaTeX_envs_menu_present": true,
   "autoclose": false,
   "autocomplete": true,
   "bibliofile": "biblio.bib",
   "cite_by": "apalike",
   "current_citInitial": 1,
   "eqLabelWithNumbers": true,
   "eqNumInitial": 1,
   "hotkeys": {
    "equation": "Ctrl-E",
    "itemize": "Ctrl-I"
   },
   "labels_anchors": false,
   "latex_user_defs": false,
   "report_style_numbering": false,
   "user_envs_cfg": false
  }
 },
 "nbformat": 4,
 "nbformat_minor": 4
}
