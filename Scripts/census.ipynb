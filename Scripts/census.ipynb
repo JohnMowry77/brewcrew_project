{
 "cells": [
  {
   "cell_type": "markdown",
   "metadata": {},
   "source": [
    "Bachelor's Degres near brewery locations, might provide a useful heatmap."
   ]
  },
  {
   "cell_type": "code",
   "execution_count": 121,
   "metadata": {},
   "outputs": [],
   "source": [
    "from census import Census\n",
    "from us import states\n",
    "import pandas as pd\n",
    "from configure import ckey"
   ]
  },
  {
   "cell_type": "code",
   "execution_count": 78,
   "metadata": {},
   "outputs": [],
   "source": [
    "colo_data = (requests.get(f'https://api.census.gov/data/2019/acs/acs1?get=NAME,B01001_001E&for=county:*&in=state:08&key={ckey}').json())"
   ]
  },
  {
   "cell_type": "code",
   "execution_count": 79,
   "metadata": {
    "scrolled": false
   },
   "outputs": [
    {
     "data": {
      "text/plain": [
       "[['NAME', 'B01001_001E', 'state', 'county'],\n",
       " ['Jefferson County, Colorado', '582881', '08', '059'],\n",
       " ['Adams County, Colorado', '517421', '08', '001'],\n",
       " ['Boulder County, Colorado', '326196', '08', '013'],\n",
       " ['Pueblo County, Colorado', '168424', '08', '101'],\n",
       " ['Mesa County, Colorado', '154210', '08', '077'],\n",
       " ['El Paso County, Colorado', '720403', '08', '041'],\n",
       " ['Arapahoe County, Colorado', '656590', '08', '005'],\n",
       " ['Denver County, Colorado', '727211', '08', '031'],\n",
       " ['Weld County, Colorado', '324492', '08', '123'],\n",
       " ['Douglas County, Colorado', '351154', '08', '035'],\n",
       " ['Larimer County, Colorado', '356899', '08', '069'],\n",
       " ['Broomfield County, Colorado', '70465', '08', '014']]"
      ]
     },
     "execution_count": 79,
     "metadata": {},
     "output_type": "execute_result"
    }
   ],
   "source": [
    "colo_data"
   ]
  },
  {
   "cell_type": "code",
   "execution_count": 85,
   "metadata": {},
   "outputs": [],
   "source": [
    "male_colo = (requests.get(f'https://api.census.gov/data/2019/acs/acs1?get=NAME,B01001_002E&for=county:*&in=state:08&key={ckey}').json())\n",
    "female_colo = (requests.get(f'https://api.census.gov/data/2019/acs/acs1?get=NAME,B01001_026E&for=county:*&in=state:08&key={ckey}').json())"
   ]
  },
  {
   "cell_type": "code",
   "execution_count": 124,
   "metadata": {},
   "outputs": [
    {
     "data": {
      "text/html": [
       "<div>\n",
       "<style scoped>\n",
       "    .dataframe tbody tr th:only-of-type {\n",
       "        vertical-align: middle;\n",
       "    }\n",
       "\n",
       "    .dataframe tbody tr th {\n",
       "        vertical-align: top;\n",
       "    }\n",
       "\n",
       "    .dataframe thead th {\n",
       "        text-align: right;\n",
       "    }\n",
       "</style>\n",
       "<table border=\"1\" class=\"dataframe\">\n",
       "  <thead>\n",
       "    <tr style=\"text-align: right;\">\n",
       "      <th></th>\n",
       "      <th>County Name</th>\n",
       "      <th># of Females</th>\n",
       "      <th># of Males</th>\n",
       "      <th>Median Age</th>\n",
       "      <th>2</th>\n",
       "      <th>3</th>\n",
       "    </tr>\n",
       "  </thead>\n",
       "  <tbody>\n",
       "    <tr>\n",
       "      <th>0</th>\n",
       "      <td>Jefferson County, Colorado</td>\n",
       "      <td>291804</td>\n",
       "      <td>291077</td>\n",
       "      <td>40.2</td>\n",
       "      <td>08</td>\n",
       "      <td>059</td>\n",
       "    </tr>\n",
       "    <tr>\n",
       "      <th>1</th>\n",
       "      <td>Adams County, Colorado</td>\n",
       "      <td>253766</td>\n",
       "      <td>263655</td>\n",
       "      <td>34.0</td>\n",
       "      <td>08</td>\n",
       "      <td>001</td>\n",
       "    </tr>\n",
       "    <tr>\n",
       "      <th>2</th>\n",
       "      <td>Boulder County, Colorado</td>\n",
       "      <td>162517</td>\n",
       "      <td>163679</td>\n",
       "      <td>37.0</td>\n",
       "      <td>08</td>\n",
       "      <td>013</td>\n",
       "    </tr>\n",
       "    <tr>\n",
       "      <th>3</th>\n",
       "      <td>Pueblo County, Colorado</td>\n",
       "      <td>85631</td>\n",
       "      <td>82793</td>\n",
       "      <td>39.8</td>\n",
       "      <td>08</td>\n",
       "      <td>101</td>\n",
       "    </tr>\n",
       "    <tr>\n",
       "      <th>4</th>\n",
       "      <td>Mesa County, Colorado</td>\n",
       "      <td>78968</td>\n",
       "      <td>75242</td>\n",
       "      <td>39.9</td>\n",
       "      <td>08</td>\n",
       "      <td>077</td>\n",
       "    </tr>\n",
       "    <tr>\n",
       "      <th>5</th>\n",
       "      <td>El Paso County, Colorado</td>\n",
       "      <td>356098</td>\n",
       "      <td>364305</td>\n",
       "      <td>34.5</td>\n",
       "      <td>08</td>\n",
       "      <td>041</td>\n",
       "    </tr>\n",
       "    <tr>\n",
       "      <th>6</th>\n",
       "      <td>Arapahoe County, Colorado</td>\n",
       "      <td>331082</td>\n",
       "      <td>325508</td>\n",
       "      <td>36.7</td>\n",
       "      <td>08</td>\n",
       "      <td>005</td>\n",
       "    </tr>\n",
       "    <tr>\n",
       "      <th>7</th>\n",
       "      <td>Denver County, Colorado</td>\n",
       "      <td>362580</td>\n",
       "      <td>364631</td>\n",
       "      <td>34.7</td>\n",
       "      <td>08</td>\n",
       "      <td>031</td>\n",
       "    </tr>\n",
       "    <tr>\n",
       "      <th>8</th>\n",
       "      <td>Weld County, Colorado</td>\n",
       "      <td>160283</td>\n",
       "      <td>164209</td>\n",
       "      <td>34.8</td>\n",
       "      <td>08</td>\n",
       "      <td>123</td>\n",
       "    </tr>\n",
       "    <tr>\n",
       "      <th>9</th>\n",
       "      <td>Douglas County, Colorado</td>\n",
       "      <td>175581</td>\n",
       "      <td>175573</td>\n",
       "      <td>39.3</td>\n",
       "      <td>08</td>\n",
       "      <td>035</td>\n",
       "    </tr>\n",
       "    <tr>\n",
       "      <th>10</th>\n",
       "      <td>Larimer County, Colorado</td>\n",
       "      <td>177415</td>\n",
       "      <td>179484</td>\n",
       "      <td>36.4</td>\n",
       "      <td>08</td>\n",
       "      <td>069</td>\n",
       "    </tr>\n",
       "    <tr>\n",
       "      <th>11</th>\n",
       "      <td>Broomfield County, Colorado</td>\n",
       "      <td>34884</td>\n",
       "      <td>35581</td>\n",
       "      <td>38.9</td>\n",
       "      <td>08</td>\n",
       "      <td>014</td>\n",
       "    </tr>\n",
       "  </tbody>\n",
       "</table>\n",
       "</div>"
      ],
      "text/plain": [
       "                    County Name # of Females # of Males Median Age   2    3\n",
       "0    Jefferson County, Colorado       291804     291077       40.2  08  059\n",
       "1        Adams County, Colorado       253766     263655       34.0  08  001\n",
       "2      Boulder County, Colorado       162517     163679       37.0  08  013\n",
       "3       Pueblo County, Colorado        85631      82793       39.8  08  101\n",
       "4         Mesa County, Colorado        78968      75242       39.9  08  077\n",
       "5      El Paso County, Colorado       356098     364305       34.5  08  041\n",
       "6     Arapahoe County, Colorado       331082     325508       36.7  08  005\n",
       "7       Denver County, Colorado       362580     364631       34.7  08  031\n",
       "8         Weld County, Colorado       160283     164209       34.8  08  123\n",
       "9      Douglas County, Colorado       175581     175573       39.3  08  035\n",
       "10     Larimer County, Colorado       177415     179484       36.4  08  069\n",
       "11  Broomfield County, Colorado        34884      35581       38.9  08  014"
      ]
     },
     "execution_count": 124,
     "metadata": {},
     "output_type": "execute_result"
    }
   ],
   "source": [
    "f_df = pd.DataFrame(female_colo)\n",
    "m_df = pd.DataFrame(male_colo)\n",
    "merged_df = pd.merge(f_df, m_df, on = 0)\n",
    "merged_df= merged_df.rename(columns =({\n",
    "    0 : \"County Name\",\n",
    "    \"1_x\" : \"# of Females\",\n",
    "    \"1_y\" : \"# of Males\"\n",
    "}))\n",
    "merged_df= merged_df[{\"County Name\", \"# of Females\", \"# of Males\"}]\n",
    "merged_df.drop([0])\n",
    "med_age = (requests.get(f'https://api.census.gov/data/2019/acs/acs1?get=NAME,B01002_001E&for=county:*&in=state:08&key={ckey}').json())\n",
    "med_age_df = pd.DataFrame(med_age)\n",
    "med_age_df = med_age_df.rename(columns =({\n",
    "    0 : \"County Name\",\n",
    "    1 : \"Median Age\"\n",
    "}))\n",
    "med_age_df = med_age_df.drop([0])\n",
    "new_merged_df = pd.merge(merged_df, med_age_df, on = \"County Name\")\n",
    "new_merged_df"
   ]
  },
  {
   "cell_type": "code",
   "execution_count": null,
   "metadata": {},
   "outputs": [],
   "source": []
  }
 ],
 "metadata": {
  "kernelspec": {
   "display_name": "Python 3",
   "language": "python",
   "name": "python3"
  },
  "language_info": {
   "codemirror_mode": {
    "name": "ipython",
    "version": 3
   },
   "file_extension": ".py",
   "mimetype": "text/x-python",
   "name": "python",
   "nbconvert_exporter": "python",
   "pygments_lexer": "ipython3",
   "version": "3.8.5"
  }
 },
 "nbformat": 4,
 "nbformat_minor": 4
}
